{
  "nbformat": 4,
  "nbformat_minor": 0,
  "metadata": {
    "colab": {
      "provenance": [],
      "authorship_tag": "ABX9TyOuLKCtYLsfZX42H8MQFX90",
      "include_colab_link": true
    },
    "kernelspec": {
      "name": "python3",
      "display_name": "Python 3"
    },
    "language_info": {
      "name": "python"
    }
  },
  "cells": [
    {
      "cell_type": "markdown",
      "metadata": {
        "id": "view-in-github",
        "colab_type": "text"
      },
      "source": [
        "<a href=\"https://colab.research.google.com/github/Payalsingh8277/python/blob/main/divide%20by%20one%20digit.ipynb\" target=\"_parent\"><img src=\"https://colab.research.google.com/assets/colab-badge.svg\" alt=\"Open In Colab\"/></a>"
      ]
    },
    {
      "cell_type": "code",
      "execution_count": 46,
      "metadata": {
        "colab": {
          "base_uri": "https://localhost:8080/"
        },
        "id": "hh0k9MEPwKW5",
        "outputId": "42a84101-9c11-466e-be1f-e994fdfdd66f"
      },
      "outputs": [
        {
          "output_type": "stream",
          "name": "stdout",
          "text": [
            "22\n",
            "4\n",
            "5\n",
            " c is not divisible\n"
          ]
        }
      ],
      "source": [
        "a=input()\n",
        "a=int(a)\n",
        "b=input()\n",
        "b=int(b)\n",
        "c=input()\n",
        "c=int(c)\n",
        "d=int(2)\n",
        "if a%d and b%d and c%d:\n",
        "  print(\"divisible\")\n",
        "elif a%d:\n",
        "  print(\" a is not divisible\")\n",
        "elif b%d:\n",
        "  print(\" b is not divisible\")\n",
        "elif c%d:\n",
        "  print(\" c is not divisible\")\n",
        "else:\n",
        "   print(\"not divisible\")"
      ]
    }
  ]
}