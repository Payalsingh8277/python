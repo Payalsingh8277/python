{
  "nbformat": 4,
  "nbformat_minor": 0,
  "metadata": {
    "colab": {
      "provenance": [],
      "authorship_tag": "ABX9TyNdS0u2GAJaosRsvigQiuji",
      "include_colab_link": true
    },
    "kernelspec": {
      "name": "python3",
      "display_name": "Python 3"
    },
    "language_info": {
      "name": "python"
    }
  },
  "cells": [
    {
      "cell_type": "markdown",
      "metadata": {
        "id": "view-in-github",
        "colab_type": "text"
      },
      "source": [
        "<a href=\"https://colab.research.google.com/github/Payalsingh8277/python/blob/main/BMI%20calculator.ipynb\" target=\"_parent\"><img src=\"https://colab.research.google.com/assets/colab-badge.svg\" alt=\"Open In Colab\"/></a>"
      ]
    },
    {
      "cell_type": "code",
      "source": [
        "h=float(input(\"enter the height in cm:\"))\n",
        "w=int(input(\"enter the weight in kg:\"))\n",
        "bmi=w/(h**2)\n",
        "print(\"your bmi is : \",bmi)\n",
        "if (bmi<18):\n",
        "    print(\"underweight\")\n",
        "elif (bmi>=18 and bmi<25):\n",
        "    print(\"normal weight\")\n",
        "elif (bmi>=25 and bmi<=30):\n",
        "    print(\"overweight\")\n",
        "elif (bmi>30):\n",
        "    print(\"obese\")\n"
      ],
      "metadata": {
        "colab": {
          "base_uri": "https://localhost:8080/"
        },
        "id": "whIuE9QnDv6Z",
        "outputId": "39a29baa-e8b6-4096-ea46-255ca6f0f76f"
      },
      "execution_count": 4,
      "outputs": [
        {
          "output_type": "stream",
          "name": "stdout",
          "text": [
            "enter the height in cm:1.58\n",
            "enter the weight in kg:43\n",
            "your bmi is :  17.224803717352987\n",
            "underweight\n"
          ]
        }
      ]
    }
  ]
}