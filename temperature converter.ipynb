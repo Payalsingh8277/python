{
  "nbformat": 4,
  "nbformat_minor": 0,
  "metadata": {
    "colab": {
      "provenance": [],
      "authorship_tag": "ABX9TyMmwbPyI8gxiNvOVvRJF0v6",
      "include_colab_link": true
    },
    "kernelspec": {
      "name": "python3",
      "display_name": "Python 3"
    },
    "language_info": {
      "name": "python"
    }
  },
  "cells": [
    {
      "cell_type": "markdown",
      "metadata": {
        "id": "view-in-github",
        "colab_type": "text"
      },
      "source": [
        "<a href=\"https://colab.research.google.com/github/Payalsingh8277/python/blob/main/temperature%20converter.ipynb\" target=\"_parent\"><img src=\"https://colab.research.google.com/assets/colab-badge.svg\" alt=\"Open In Colab\"/></a>"
      ]
    },
    {
      "cell_type": "code",
      "source": [
        "tem_type=input(\"enter the type of tempreture(c,f,k) : \")\n",
        "tem_con=input(\"enter the type of tempreture converter(c,f,k):\")\n",
        "tem=float(input(\"enter the tempreture :\"))\n",
        "celsius=tem\n",
        "kelvin=tem\n",
        "fahrenheit=tem\n",
        "def tempreture(celsius,kelvin,fahrenheit):\n",
        "    if(tem_type==\"c\" and tem_con==\"k\"):\n",
        "        print(\"celsius to kelvin :\",tem+273.15)\n",
        "    elif(tem_type==\"k\" and tem_con==\"c\"):\n",
        "        print(\"kelvin to celsius : \",tem-273.15)\n",
        "    elif(tem_type==\"c\" and tem_con==\"f\"):\n",
        "        print(\"celsius to fahrenheit:\",tem*1.8+32)\n",
        "    elif(tem_type==\"f\" and tem_con==\"c\"):\n",
        "        print(\"fahrenheit to celsius:\",(tem-32)/1.8)\n",
        "    elif(tem_type==\"f\" and tem_con==\"k\"):\n",
        "        print(\"fahrenheit to kelvin:\",(tem+ 459.67)*5/9)\n",
        "    elif(tem_type==\"k\" and tem_con==\"f\"):\n",
        "        print(\"kelvin to fahrenheit:\",(tem*9/5-459.67))\n",
        "    else:\n",
        "      print(\"there is some mistake.\")\n",
        "tempreture(celsius,kelvin,fahrenheit)\n",
        "\n"
      ],
      "metadata": {
        "colab": {
          "base_uri": "https://localhost:8080/"
        },
        "id": "rwDpezLFMaNp",
        "outputId": "431decdf-e41a-460a-a4c1-24836efdee37"
      },
      "execution_count": 35,
      "outputs": [
        {
          "output_type": "stream",
          "name": "stdout",
          "text": [
            "enter the type of tempreture(c,f,k) : k\n",
            "enter the type of tempreture converter(c,f,k):f\n",
            "enter the tempreture :23\n",
            "kelvin to fahrenheit: -418.27000000000004\n"
          ]
        }
      ]
    }
  ]
}