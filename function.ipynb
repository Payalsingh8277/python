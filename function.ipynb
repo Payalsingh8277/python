{
  "nbformat": 4,
  "nbformat_minor": 0,
  "metadata": {
    "colab": {
      "provenance": [],
      "authorship_tag": "ABX9TyNNq4BVKnYpnNkBEoFMt0yl",
      "include_colab_link": true
    },
    "kernelspec": {
      "name": "python3",
      "display_name": "Python 3"
    },
    "language_info": {
      "name": "python"
    }
  },
  "cells": [
    {
      "cell_type": "markdown",
      "metadata": {
        "id": "view-in-github",
        "colab_type": "text"
      },
      "source": [
        "<a href=\"https://colab.research.google.com/github/Payalsingh8277/python/blob/main/function.ipynb\" target=\"_parent\"><img src=\"https://colab.research.google.com/assets/colab-badge.svg\" alt=\"Open In Colab\"/></a>"
      ]
    },
    {
      "cell_type": "code",
      "source": [
        "def value(*args):\n",
        "  length=len(args)\n",
        "  print(args[length-1])\n",
        "value(1,11,111,1111,11111)\n",
        "value(2,22,222,2222)\n",
        "value(3,33,333)\n",
        "value(4,44)\n",
        "value(5)"
      ],
      "metadata": {
        "colab": {
          "base_uri": "https://localhost:8080/"
        },
        "id": "C_8EvmehEUDp",
        "outputId": "1c66e1dd-2843-42d0-a0d9-a34b9d3f9d7f"
      },
      "execution_count": 46,
      "outputs": [
        {
          "output_type": "stream",
          "name": "stdout",
          "text": [
            "11111\n",
            "2222\n",
            "333\n",
            "44\n",
            "5\n"
          ]
        }
      ]
    }
  ]
}