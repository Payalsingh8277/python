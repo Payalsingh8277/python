{
  "nbformat": 4,
  "nbformat_minor": 0,
  "metadata": {
    "colab": {
      "provenance": [],
      "authorship_tag": "ABX9TyPmOEyZPXiaWUvXzaiAzlg1",
      "include_colab_link": true
    },
    "kernelspec": {
      "name": "python3",
      "display_name": "Python 3"
    },
    "language_info": {
      "name": "python"
    }
  },
  "cells": [
    {
      "cell_type": "markdown",
      "metadata": {
        "id": "view-in-github",
        "colab_type": "text"
      },
      "source": [
        "<a href=\"https://colab.research.google.com/github/Payalsingh8277/python/blob/main/comparison.ipynb\" target=\"_parent\"><img src=\"https://colab.research.google.com/assets/colab-badge.svg\" alt=\"Open In Colab\"/></a>"
      ]
    },
    {
      "cell_type": "code",
      "execution_count": 17,
      "metadata": {
        "colab": {
          "base_uri": "https://localhost:8080/"
        },
        "id": "hh0k9MEPwKW5",
        "outputId": "c1d876cd-fa50-4c81-8057-28ec6d90d52b"
      },
      "outputs": [
        {
          "output_type": "stream",
          "name": "stdout",
          "text": [
            "2\n",
            "3\n",
            "1\n",
            "b is less than c\n"
          ]
        }
      ],
      "source": [
        "a=input()\n",
        "b=input()\n",
        "c=input()\n",
        "if a>b:\n",
        "  print('a is less than b ')\n",
        "elif b>c:\n",
        "   print('b is less than c')\n",
        "else:\n",
        "   print('b is greater than c')"
      ]
    }
  ]
}