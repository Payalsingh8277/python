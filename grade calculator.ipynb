{
  "nbformat": 4,
  "nbformat_minor": 0,
  "metadata": {
    "colab": {
      "provenance": [],
      "authorship_tag": "ABX9TyPeLMC819RVuiCaZndeIndY",
      "include_colab_link": true
    },
    "kernelspec": {
      "name": "python3",
      "display_name": "Python 3"
    },
    "language_info": {
      "name": "python"
    }
  },
  "cells": [
    {
      "cell_type": "markdown",
      "metadata": {
        "id": "view-in-github",
        "colab_type": "text"
      },
      "source": [
        "<a href=\"https://colab.research.google.com/github/Payalsingh8277/python/blob/main/grade%20calculator.ipynb\" target=\"_parent\"><img src=\"https://colab.research.google.com/assets/colab-badge.svg\" alt=\"Open In Colab\"/></a>"
      ]
    },
    {
      "cell_type": "code",
      "execution_count": 1,
      "metadata": {
        "colab": {
          "base_uri": "https://localhost:8080/"
        },
        "id": "Q4K2f38kg6PO",
        "outputId": "23a0b75b-1f42-4b11-c475-cd571f6dc73e"
      },
      "outputs": [
        {
          "output_type": "stream",
          "name": "stdout",
          "text": [
            "enter the marks of physics:23\n",
            "enter the marks of maths:44\n",
            "enter the marks of chemistry:55\n",
            "total marks: 122\n",
            "percentage: 40.666666666666664\n",
            "grade C\n"
          ]
        }
      ],
      "source": [
        "def grade(physics,maths,chemistry):\n",
        "    total=300\n",
        "    physics=int(input(\"enter the marks of physics:\"))\n",
        "    maths=int(input(\"enter the marks of maths:\"))\n",
        "    chemistry=int(input(\"enter the marks of chemistry:\"))\n",
        "    marks=physics+maths+chemistry\n",
        "    print(\"total marks:\",marks)\n",
        "    percentage=marks/total*100\n",
        "    print(\"percentage:\",percentage)\n",
        "    if percentage>=90:\n",
        "        print(\"grade A\")\n",
        "    elif percentage>=60:\n",
        "        print(\"grade B\")\n",
        "    elif percentage>=40:\n",
        "        print(\"grade C\")\n",
        "    else:\n",
        "        print(\"grade D\")\n",
        "physics=int(input(\"enter the marks of physics:\"))\n",
        "maths=int(input(\"enter the marks of maths:\"))\n",
        "chemistry=int(input(\"enter the marks of chemistry:\"))\n",
        "grade(physics,maths,chemistry)\n",
        "\n"
      ]
    }
  ]
}