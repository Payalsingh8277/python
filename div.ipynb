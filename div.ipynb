{
  "nbformat": 4,
  "nbformat_minor": 0,
  "metadata": {
    "colab": {
      "provenance": [],
      "authorship_tag": "ABX9TyNc1Nz6Jzm9mPwyRB1qqRf3",
      "include_colab_link": true
    },
    "kernelspec": {
      "name": "python3",
      "display_name": "Python 3"
    },
    "language_info": {
      "name": "python"
    }
  },
  "cells": [
    {
      "cell_type": "markdown",
      "metadata": {
        "id": "view-in-github",
        "colab_type": "text"
      },
      "source": [
        "<a href=\"https://colab.research.google.com/github/Payalsingh8277/python/blob/main/div.ipynb\" target=\"_parent\"><img src=\"https://colab.research.google.com/assets/colab-badge.svg\" alt=\"Open In Colab\"/></a>"
      ]
    },
    {
      "cell_type": "code",
      "execution_count": 19,
      "metadata": {
        "colab": {
          "base_uri": "https://localhost:8080/"
        },
        "id": "hh0k9MEPwKW5",
        "outputId": "47004b8c-4c85-4115-ff4f-ba7142bcd714"
      },
      "outputs": [
        {
          "output_type": "stream",
          "name": "stdout",
          "text": [
            "10\n",
            "2\n",
            "a is divisible by b \n"
          ]
        }
      ],
      "source": [
        "a=input()\n",
        "a=int(a)\n",
        "b=input()\n",
        "b=int(b)\n",
        "if a/b:\n",
        "  print('a is divisible by b ')\n",
        "else:\n",
        "   print('a is not divisible by b')"
      ]
    }
  ]
}