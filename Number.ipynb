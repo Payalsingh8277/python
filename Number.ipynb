{
  "nbformat": 4,
  "nbformat_minor": 0,
  "metadata": {
    "colab": {
      "provenance": [],
      "authorship_tag": "ABX9TyPKfNpZY5L220+wDJud2u1k",
      "include_colab_link": true
    },
    "kernelspec": {
      "name": "python3",
      "display_name": "Python 3"
    },
    "language_info": {
      "name": "python"
    }
  },
  "cells": [
    {
      "cell_type": "markdown",
      "metadata": {
        "id": "view-in-github",
        "colab_type": "text"
      },
      "source": [
        "<a href=\"https://colab.research.google.com/github/Payalsingh8277/python/blob/main/Number.ipynb\" target=\"_parent\"><img src=\"https://colab.research.google.com/assets/colab-badge.svg\" alt=\"Open In Colab\"/></a>"
      ]
    },
    {
      "cell_type": "code",
      "execution_count": 3,
      "metadata": {
        "colab": {
          "base_uri": "https://localhost:8080/"
        },
        "id": "XIRYuiJDL0Hn",
        "outputId": "d1819aae-8e5c-40e6-b357-6ce3d1d6f999"
      },
      "outputs": [
        {
          "output_type": "stream",
          "name": "stdout",
          "text": [
            "2\n",
            "two\n"
          ]
        }
      ],
      "source": [
        "a=input()\n",
        "a=int(a)\n",
        "if a>=10:\n",
        "  print(\"true\")\n",
        "elif a==1:\n",
        "  print(\"one\")\n",
        "elif a==2:\n",
        "  print(\"two\")\n",
        "elif a==3:\n",
        "  print(\"three\")\n",
        "elif a==4:\n",
        "  print(\"four\")\n",
        "elif a==5:\n",
        "  print(\"five\")\n",
        "elif a==6:\n",
        "  print(\"six\")\n",
        "elif a==7:\n",
        "  print(\"seven\")\n",
        "elif a==8:\n",
        "  print(\"eight\")\n",
        "elif a==9:\n",
        "  print(\"nine\")\n",
        "else:\n",
        " print(\"false\")"
      ]
    }
  ]
}